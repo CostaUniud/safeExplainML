{
 "cells": [
  {
   "cell_type": "code",
   "execution_count": 87,
   "metadata": {},
   "outputs": [],
   "source": [
    "import pandas as pd\n",
    "import numpy as np\n",
    "\n",
    "# Read csv file\n",
    "col_list = ['Filename','ClassId','Pred_1','Conf_1','Pred_2','Conf_2']\n",
    "df = pd.read_csv('comparison_difference.csv', usecols=col_list)\n",
    "\n",
    "# Save columns in lists\n",
    "ground = df['ClassId'].tolist()\n",
    "pred_1 = df['Pred_1'].tolist()\n",
    "conf_1 = df['Conf_1'].tolist()\n",
    "pred_2 = df['Pred_2'].tolist()\n",
    "conf_2 = df['Conf_2'].tolist()\n",
    "# Test accuracy model 1: 0.98440\n",
    "# Test accuracy model 2: 0.97268"
   ]
  },
  {
   "cell_type": "code",
   "execution_count": 88,
   "metadata": {},
   "outputs": [
    {
     "name": "stdout",
     "output_type": "stream",
     "text": [
      "> Best threshold\n",
      "0.54\n",
      "> Results at this threshold\n",
      "TP, TN, FN, FP\n",
      "[153, 47, 22, 48]\n"
     ]
    }
   ],
   "source": [
    "thresh = 0\n",
    "results = []\n",
    "correct_wrong_rate = []\n",
    "\n",
    "# Until thresh = 1\n",
    "while(thresh < 1):\n",
    "  thresh += 0.01\n",
    "  tp = 0\n",
    "  tn = 0\n",
    "  fn = 0\n",
    "  fp = 0\n",
    "\n",
    "  # For all main model's predictions\n",
    "  for id, pred in enumerate(pred_1):\n",
    "    if ground[id] == pred and conf_1[id] >= thresh:\n",
    "      tp += 1 # True positive pred\n",
    "    elif ground[id] == pred:\n",
    "      fn += 1 # False negative pred, it is actually positive, but the conf. score is less than threshold\n",
    "    elif ground[id] != pred and conf_1[id] >= thresh:\n",
    "      fp += 1 # False positive pred, it is a wrong pred, but considered positive because conf. score is bigger than threshold\n",
    "    else:\n",
    "      tn += 1 # True negative\n",
    "\n",
    "  #print('tp, tn, fn, fp')\n",
    "  #print(tp, tn, fn, fp)\n",
    "  results.append([tp, tn, fn, fp])\n",
    "  rate = (tp + tn) / (fp + fn) # We want the threshold that increase TP + TN and decrease FP + FN\n",
    "  #print(round(rate, 2))\n",
    "  correct_wrong_rate.append([round(rate, 2), round(thresh, 2)])\n",
    "\n",
    "# print(correct_wrong_rate)\n",
    "arr = np.array(correct_wrong_rate)\n",
    "idmax = np.argmax(arr, axis = 0)\n",
    "print('> Best threshold')\n",
    "print(arr[idmax][0][1])\n",
    "print('> Results at this threshold')\n",
    "print('TP, TN, FN, FP')\n",
    "# print(results)\n",
    "print(results[idmax[0]])\n"
   ]
  },
  {
   "cell_type": "code",
   "execution_count": 89,
   "metadata": {},
   "outputs": [
    {
     "name": "stdout",
     "output_type": "stream",
     "text": [
      "70\n"
     ]
    }
   ],
   "source": [
    "thresh_def = 0.54\n",
    "wrong = []\n",
    "\n",
    "# Save FP and FN ids\n",
    "for id, pred in enumerate(pred_1):\n",
    "  if ground[id] != pred and conf_1[id] >= thresh_def:\n",
    "    wrong.append(id) # False positive\n",
    "  elif ground[id] == pred and conf_1[id] < thresh_def:\n",
    "    wrong.append(id) # False negative\n",
    "\n",
    "print(len(wrong))"
   ]
  },
  {
   "cell_type": "code",
   "execution_count": 90,
   "metadata": {},
   "outputs": [
    {
     "name": "stdout",
     "output_type": "stream",
     "text": [
      "> Best threshold 2\n",
      "1.0\n",
      "> Results 2 at this threshold 2\n",
      "TP, TN, FN, FP\n",
      "[0, 50, 20, 0]\n"
     ]
    }
   ],
   "source": [
    "thresh_2 = 0\n",
    "results_2 = []\n",
    "correct_wrong_rate_2 = []\n",
    "\n",
    "while(thresh_2 < 1):\n",
    "  thresh_2 += 0.01\n",
    "  tp_2 = 0\n",
    "  tn_2 = 0\n",
    "  fn_2 = 0\n",
    "  fp_2 = 0\n",
    "\n",
    "  # For FP and FN ids of main models\n",
    "  for id in wrong:\n",
    "    if ground[id] == pred_2[id] and conf_2[id] >= thresh_2:\n",
    "      tp_2 += 1\n",
    "    elif ground[id] == pred_2[id]:\n",
    "      fn_2 += 1\n",
    "    elif ground[id] != pred_2[id] and conf_2[id] >= thresh_2:\n",
    "      fp_2 += 1\n",
    "    else:\n",
    "      tn_2 += 1\n",
    "\n",
    "  # print('tp_2, tn_2, fn_2, fp_2')\n",
    "  # print(tp_2, tn_2, fn_2, fp_2)\n",
    "  results_2.append([tp_2, tn_2, fn_2, fp_2])\n",
    "  rate_2 = (tp_2 + tn_2) / (fp_2 + fn_2)\n",
    "  correct_wrong_rate_2.append([round(rate_2, 2), round(thresh_2, 2)])\n",
    "\n",
    "# print(correct_wrong_rate_2)\n",
    "arr_2 = np.array(correct_wrong_rate_2)\n",
    "idmax_2 = np.argmax(arr_2, axis = 0)\n",
    "print('> Best threshold 2')\n",
    "print(arr_2[idmax_2][0][1])\n",
    "print('> Results 2 at this threshold 2')\n",
    "print('TP, TN, FN, FP')\n",
    "# print(results_2)\n",
    "print(results_2[idmax_2[0]])"
   ]
  }
 ],
 "metadata": {
  "kernelspec": {
   "display_name": "Python 3.10.4 64-bit",
   "language": "python",
   "name": "python3"
  },
  "language_info": {
   "codemirror_mode": {
    "name": "ipython",
    "version": 3
   },
   "file_extension": ".py",
   "mimetype": "text/x-python",
   "name": "python",
   "nbconvert_exporter": "python",
   "pygments_lexer": "ipython3",
   "version": "3.10.4"
  },
  "orig_nbformat": 4,
  "vscode": {
   "interpreter": {
    "hash": "aee8b7b246df8f9039afb4144a1f6fd8d2ca17a180786b69acc140d282b71a49"
   }
  }
 },
 "nbformat": 4,
 "nbformat_minor": 2
}
