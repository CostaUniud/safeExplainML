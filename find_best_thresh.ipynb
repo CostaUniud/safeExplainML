{
 "cells": [
  {
   "cell_type": "code",
   "execution_count": 156,
   "metadata": {},
   "outputs": [],
   "source": [
    "import pandas as pd\n",
    "import numpy as np\n",
    "\n",
    "# Read csv file\n",
    "col_list = ['Filename','ClassId','Pred_1','Conf_1','Pred_2','Conf_2']\n",
    "df = pd.read_csv('comparison_all.csv', usecols=col_list)\n",
    "\n",
    "# Save columns in lists\n",
    "ground = df['ClassId'].tolist()\n",
    "pred_1 = df['Pred_1'].tolist()\n",
    "conf_1 = df['Conf_1'].tolist()\n",
    "pred_2 = df['Pred_2'].tolist()\n",
    "conf_2 = df['Conf_2'].tolist()\n",
    "# Test accuracy: 0.98432\n",
    "# Test accuracy model 2: 0.97292\n",
    "\n",
    "round_n = 5 # Rounding digits"
   ]
  },
  {
   "cell_type": "code",
   "execution_count": 157,
   "metadata": {},
   "outputs": [
    {
     "name": "stdout",
     "output_type": "stream",
     "text": [
      "> Best threshold\n",
      "0.58\n",
      "> Results at this threshold\n",
      "TP, TN, FN, FP\n",
      "[12393, 77, 39, 121]\n"
     ]
    }
   ],
   "source": [
    "thresh = 0\n",
    "results = []\n",
    "correct_wrong_rate = []\n",
    "\n",
    "# Until thresh = 1\n",
    "while(thresh < 1):\n",
    "  thresh += 0.01\n",
    "  thresh = round(thresh, round_n)\n",
    "  tp = 0\n",
    "  tn = 0\n",
    "  fn = 0\n",
    "  fp = 0\n",
    "\n",
    "  # For all main model's predictions\n",
    "  for id, pred in enumerate(pred_1):\n",
    "    if ground[id] == pred and round(conf_1[id], round_n) >= thresh:\n",
    "      tp += 1 # True positive pred\n",
    "    if ground[id] == pred and round(conf_1[id], round_n) < thresh:\n",
    "      fn += 1 # False negative pred, it is actually positive, but the conf. score is less than threshold\n",
    "    if ground[id] != pred and round(conf_1[id], round_n) >= thresh:\n",
    "      fp += 1 # False positive pred, it is a wrong pred, but considered positive because conf. score is bigger than threshold\n",
    "    if ground[id] != pred and round(conf_1[id], round_n) < thresh:\n",
    "      tn += 1 # True negative\n",
    "\n",
    "  #print('tp, tn, fn, fp')\n",
    "  #print(tp, tn, fn, fp)\n",
    "  results.append([tp, tn, fn, fp])\n",
    "  rate = (tp + tn) / (fp + fn) # We want the threshold that increase TP + TN and decrease FP + FN\n",
    "  #print(round(rate, round_n))\n",
    "  correct_wrong_rate.append([round(rate, round_n), thresh]) # Save rate and corresponding threshold\n",
    "\n",
    "# print(correct_wrong_rate)\n",
    "arr = np.array(correct_wrong_rate) # Convert in np array\n",
    "idmax = np.argmax(arr, axis = 0) # Find id of [rate, thresh] element with max rate\n",
    "print('> Best threshold')\n",
    "threshold_def = arr[idmax][0][1] # Find threshold corresponding to max rate\n",
    "print(threshold_def)\n",
    "print('> Results at this threshold')\n",
    "print('TP, TN, FN, FP')\n",
    "# print(results)\n",
    "print(results[idmax[0]]) # Print TP, TN, FN, FP results at corresponding threshold"
   ]
  },
  {
   "cell_type": "code",
   "execution_count": 158,
   "metadata": {},
   "outputs": [
    {
     "name": "stdout",
     "output_type": "stream",
     "text": [
      "[49, 50, 66, 114, 127, 198, 237, 309, 374, 453, 492, 496, 904, 1008, 1189, 1210, 1317, 1368, 1402, 1431, 1524, 1747, 1753, 1819, 1910, 1969, 2054, 2057, 2109, 2154, 2157, 2191, 2258, 2332, 2353, 2378, 2494, 2559, 2577, 2635, 2751, 2753, 2836, 2847, 2993, 3103, 3220, 3250, 3564, 3744, 3748, 3778, 3793, 3919, 4130, 4271, 4341, 4456, 4562, 4585, 4709, 4756, 4783, 4795, 4897, 4983, 5057, 5180, 5182, 5233, 5352, 5476, 5507, 5521, 5529, 5574, 5659, 5667, 5693, 5786, 5895, 5992, 6006, 6129, 6310, 6334, 6356, 6418, 6496, 6612, 6613, 6787, 6874, 6910, 6920, 7073, 7081, 7225, 7279, 7330, 7633, 7695, 7714, 7949, 8058, 8144, 8187, 8292, 8308, 8422, 8499, 8549, 8587, 8624, 8702, 8750, 9111, 9350, 9411, 9769, 9952, 9974, 10015, 10124, 10328, 10359, 10381, 10398, 10562, 10564, 10584, 10763, 10812, 10840, 10845, 11036, 11132, 11173, 11366, 11415, 11543, 11564, 11616, 11625, 11650, 11741, 11756, 11790, 11833, 11842, 11872, 11980, 12120, 12135, 12214, 12226, 12317, 12354, 12396, 12518]\n",
      "160\n"
     ]
    }
   ],
   "source": [
    "thresh_def = 0.58\n",
    "wrong = []\n",
    "\n",
    "# Save FP and FN ids\n",
    "for id, pred in enumerate(pred_1):\n",
    "  if ground[id] != pred and round(conf_1[id], round_n) >= thresh_def:\n",
    "    wrong.append(id) # False positive\n",
    "  elif ground[id] == pred and round(conf_1[id], round_n) < thresh_def:\n",
    "    wrong.append(id) # False negative\n",
    "\n",
    "print(wrong)\n",
    "print(len(wrong))"
   ]
  },
  {
   "cell_type": "code",
   "execution_count": 159,
   "metadata": {},
   "outputs": [
    {
     "name": "stdout",
     "output_type": "stream",
     "text": [
      "> Best threshold 2\n",
      "1.0\n",
      "> Results 2 at this threshold 2\n",
      "TP, TN, FN, FP\n",
      "[2, 120, 20, 18]\n",
      "20\n",
      "[114, 1008, 1368, 1524, 2635, 3103, 4709, 4783, 4795, 5659, 5992, 6874, 7714, 9769, 10015, 10840, 11790, 12135, 12317, 12396]\n",
      "18\n",
      "[1189, 1747, 2258, 2353, 2494, 2836, 3744, 3793, 4341, 5182, 7279, 7330, 8058, 8308, 9952, 10381, 11543, 11756]\n"
     ]
    }
   ],
   "source": [
    "thresh_2 = 0\n",
    "results_2 = []\n",
    "correct_wrong_rate_2 = []\n",
    "\n",
    "while(thresh_2 < 1):\n",
    "  thresh_2 += 0.01\n",
    "  thresh_2 = round(thresh_2, round_n)\n",
    "  tp_2 = 0\n",
    "  tn_2 = 0\n",
    "  fn_2 = 0\n",
    "  fp_2 = 0\n",
    "  fn_ids = []\n",
    "  fp_ids = []\n",
    "\n",
    "  # For FP and FN ids of main models\n",
    "  for id in wrong:\n",
    "    if ground[id] == pred_2[id] and round(conf_2[id], round_n) >= thresh_2:\n",
    "      tp_2 += 1\n",
    "    if ground[id] == pred_2[id] and round(conf_2[id], round_n) < thresh_2:\n",
    "      fn_2 += 1\n",
    "      fn_ids.append(id)\n",
    "    if ground[id] != pred_2[id] and round(conf_2[id], round_n) >= thresh_2:\n",
    "      fp_2 += 1\n",
    "      fp_ids.append(id)\n",
    "    if ground[id] != pred_2[id] and round(conf_2[id], round_n) < thresh_2:\n",
    "      tn_2 += 1\n",
    "\n",
    "  # print('tp_2, tn_2, fn_2, fp_2')\n",
    "  # print(tp_2, tn_2, fn_2, fp_2)\n",
    "  results_2.append([tp_2, tn_2, fn_2, fp_2])\n",
    "  rate_2 = (tp_2 + tn_2) / (fp_2 + fn_2)\n",
    "  correct_wrong_rate_2.append([round(rate_2, round_n), thresh_2])\n",
    "\n",
    "# print(correct_wrong_rate_2)\n",
    "arr_2 = np.array(correct_wrong_rate_2)\n",
    "idmax_2 = np.argmax(arr_2, axis = 0)\n",
    "print('> Best threshold 2')\n",
    "print(arr_2[idmax_2][0][1])\n",
    "print('> Results 2 at this threshold 2')\n",
    "print('TP, TN, FN, FP')\n",
    "# print(results_2)\n",
    "print(results_2[idmax_2[0]])\n",
    "\n",
    "print(len(fn_ids))\n",
    "print(fn_ids)\n",
    "print(len(fp_ids))\n",
    "print(fp_ids)"
   ]
  },
  {
   "cell_type": "code",
   "execution_count": 162,
   "metadata": {},
   "outputs": [
    {
     "name": "stdout",
     "output_type": "stream",
     "text": [
      "[114, 1008, 1189, 1368, 1524, 1747, 2258, 2353, 2494, 2635, 2836, 3103, 3744, 3793, 4341, 4709, 4783, 4795, 5182, 5659, 5992, 6874, 7279, 7330, 7714, 8058, 8308, 9769, 9952, 10015, 10381, 10840, 11543, 11756, 11790, 12135, 12317, 12396]\n",
      "38\n"
     ]
    }
   ],
   "source": [
    "thresh_def_2 = 1\n",
    "wrong_2 = []\n",
    "\n",
    "# Save FP and FN ids\n",
    "for id in wrong:\n",
    "  if ground[id] == pred_2[id] and round(conf_2[id], round_n) < thresh_2:\n",
    "    fn_2 += 1\n",
    "    wrong_2.append(id) # False negative\n",
    "  if ground[id] != pred_2[id] and round(conf_2[id], round_n) >= thresh_2:\n",
    "    fp_2 += 1\n",
    "    wrong_2.append(id) # False positive\n",
    "  if ground[id] != pred_2[id] and round(conf_2[id], round_n) < thresh_2:\n",
    "    tn_2 += 1\n",
    "  if ground[id] == pred_2[id] and round(conf_2[id], round_n) >= thresh_2:\n",
    "    tp_2 += 1\n",
    "\n",
    "print(wrong_2)\n",
    "print(len(wrong_2))"
   ]
  }
 ],
 "metadata": {
  "kernelspec": {
   "display_name": "Python 3.10.4 64-bit",
   "language": "python",
   "name": "python3"
  },
  "language_info": {
   "codemirror_mode": {
    "name": "ipython",
    "version": 3
   },
   "file_extension": ".py",
   "mimetype": "text/x-python",
   "name": "python",
   "nbconvert_exporter": "python",
   "pygments_lexer": "ipython3",
   "version": "3.10.4"
  },
  "orig_nbformat": 4,
  "vscode": {
   "interpreter": {
    "hash": "aee8b7b246df8f9039afb4144a1f6fd8d2ca17a180786b69acc140d282b71a49"
   }
  }
 },
 "nbformat": 4,
 "nbformat_minor": 2
}
